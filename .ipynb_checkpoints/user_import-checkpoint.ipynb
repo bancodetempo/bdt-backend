{
 "cells": [
  {
   "cell_type": "code",
   "execution_count": 1,
   "metadata": {},
   "outputs": [],
   "source": [
    "import csv\n",
    "filename = \"bdt_072020.csv\"\n"
   ]
  },
  {
   "cell_type": "code",
   "execution_count": 4,
   "metadata": {},
   "outputs": [],
   "source": [
    "def import_user_from_csv_row(row):\n",
    "    google_drive_spreadsheet_id = row[0]\n",
    "    user_full_name = row[1]\n",
    "    last_month_balance = row[8]\n",
    "    current_balance = row[9]\n",
    "    \n",
    "    splitted_user_full_name = user_fullname.split(' ')\n",
    "    first_name = splitted_user_full_name[0]\n",
    "    last_name = splitted_user_full_name[1:]\n",
    "    \n",
    "    user = CustomUser.objects.create(\n",
    "        first_name=first_name,\n",
    "        last_name=last_name,\n",
    "        google_drive_spreadsheet_id=google_drive_spreadsheet_id,\n",
    "        is_active=False,   \n",
    "    )\n",
    "    \n",
    "    account = Account.objects.create(\n",
    "        owner=user,\n",
    "        balance=0,\n",
    "    )\n",
    "\n",
    "\n",
    "\n"
   ]
  },
  {
   "cell_type": "code",
   "execution_count": 8,
   "metadata": {},
   "outputs": [
    {
     "data": {
      "text/plain": [
       "authentication.models.CustomUser"
      ]
     },
     "execution_count": 8,
     "metadata": {},
     "output_type": "execute_result"
    }
   ],
   "source": [
    "CustomUser"
   ]
  },
  {
   "cell_type": "code",
   "execution_count": null,
   "metadata": {},
   "outputs": [],
   "source": [
    "with open(filename, newline='\\n') as csvfile:\n",
    "    reader = csv.reader(csvfile)\n",
    "    rows = [row for row in reader]\n",
    "    for row in rows[9:15]:\n",
    "        import_user_from_csv_row(row)"
   ]
  }
 ],
 "metadata": {
  "kernelspec": {
   "display_name": "Django Shell-Plus",
   "language": "python",
   "name": "django_extensions"
  },
  "language_info": {
   "codemirror_mode": {
    "name": "ipython",
    "version": 3
   },
   "file_extension": ".py",
   "mimetype": "text/x-python",
   "name": "python",
   "nbconvert_exporter": "python",
   "pygments_lexer": "ipython3",
   "version": "3.8.3"
  }
 },
 "nbformat": 4,
 "nbformat_minor": 4
}
