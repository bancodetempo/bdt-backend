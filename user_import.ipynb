{
 "cells": [
  {
   "cell_type": "code",
   "execution_count": 7,
   "metadata": {},
   "outputs": [],
   "source": [
    "import csv\n",
    "filename = \"bdt_072020.csv\"\n"
   ]
  },
  {
   "cell_type": "code",
   "execution_count": 21,
   "metadata": {},
   "outputs": [
    {
     "name": "stdout",
     "output_type": "stream",
     "text": [
      "0002-7 Bruno Glória 13 13\n",
      "0003-5 Martin Gears 4 4\n",
      "0004-3 Daniela Vieira 20 20\n",
      "0005-1 Gilberto Gama Machado 28 28\n",
      "0006-0 Fernanda Franco Abrahão 0 0\n",
      "0007-8 Rosana Gomes 26.5 26.5\n"
     ]
    }
   ],
   "source": [
    "with open(filename, newline='\\n') as csvfile:\n",
    "    reader = csv.reader(csvfile)\n",
    "    rows = [row for row in reader]\n",
    "    for row in rows[9:15]:\n",
    "        account_id = row[0]\n",
    "        user_full_name = row[1]\n",
    "        last_month_balance = row[8]\n",
    "        current_balance = row[9]\n",
    "        print(account_id, user_full_name, last_month_balance, current_balance)"
   ]
  }
 ],
 "metadata": {
  "kernelspec": {
   "display_name": "Django Shell-Plus",
   "language": "python",
   "name": "django_extensions"
  },
  "language_info": {
   "codemirror_mode": {
    "name": "ipython",
    "version": 3
   },
   "file_extension": ".py",
   "mimetype": "text/x-python",
   "name": "python",
   "nbconvert_exporter": "python",
   "pygments_lexer": "ipython3",
   "version": "3.8.3"
  }
 },
 "nbformat": 4,
 "nbformat_minor": 4
}
